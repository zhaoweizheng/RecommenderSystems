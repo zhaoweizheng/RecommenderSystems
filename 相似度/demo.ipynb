{
 "cells": [
  {
   "cell_type": "markdown",
   "metadata": {
    "collapsed": true
   },
   "source": [
    " 相似度计算\n",
    "        相似度计算在数据挖掘和推荐算法系统中有着广泛的应用场景. 如:\n",
    "        @ 在协同过滤算法中, 可以利用相似度计算用户之间或者物品之间的相似度\n",
    "        @ 在利用k-means 进行聚类时, 利用相似度计算公式计算个体到簇类中心的距离, 进而判断个体所属的类别\n",
    "        @ 利用KNN进行分类时, 利用相似度计算个体与已知类别之间的相似性, 从而判断个体所属的类别等,"
   ]
  },
  {
   "cell_type": "markdown",
   "metadata": {},
   "source": [
    "1. 欧式距离: 指在m维空间中两个点的真实距离"
   ]
  },
  {
   "cell_type": "markdown",
   "metadata": {},
   "source": [
    ""
   ]
  },
  {
   "cell_type": "markdown",
   "metadata": {},
   "source": [
    "\n"
   ]
  },
  {
   "cell_type": "code",
   "execution_count": null,
   "metadata": {},
   "outputs": [],
   "source": []
  }
 ],
 "metadata": {
  "kernelspec": {
   "display_name": "Python 2",
   "language": "python",
   "name": "python2"
  },
  "language_info": {
   "codemirror_mode": {
    "name": "ipython",
    "version": 2
   },
   "file_extension": ".py",
   "mimetype": "text/x-python",
   "name": "python",
   "nbconvert_exporter": "python",
   "pygments_lexer": "ipython2",
   "version": "2.7.6"
  }
 },
 "nbformat": 4,
 "nbformat_minor": 0
}
